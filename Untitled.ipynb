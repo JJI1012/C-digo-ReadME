{
  "nbformat": 4,
  "nbformat_minor": 0,
  "metadata": {
    "colab": {
      "provenance": [],
      "authorship_tag": "ABX9TyM/nC8Q4tkDb72UsDWs7G3g",
      "include_colab_link": true
    },
    "kernelspec": {
      "name": "python3",
      "display_name": "Python 3"
    },
    "language_info": {
      "name": "python"
    }
  },
  "cells": [
    {
      "cell_type": "markdown",
      "metadata": {
        "id": "view-in-github",
        "colab_type": "text"
      },
      "source": [
        "<a href=\"https://colab.research.google.com/github/JJI1012/C-digo-ReadME/blob/main/Untitled.ipynb\" target=\"_parent\"><img src=\"https://colab.research.google.com/assets/colab-badge.svg\" alt=\"Open In Colab\"/></a>"
      ]
    },
    {
      "cell_type": "code",
      "execution_count": 1,
      "metadata": {
        "colab": {
          "base_uri": "https://localhost:8080/"
        },
        "id": "anpaCVGWW9V4",
        "outputId": "a3bdd86f-008b-49db-c772-163648cbb820"
      },
      "outputs": [
        {
          "output_type": "stream",
          "name": "stdout",
          "text": [
            "Collecting pulp\n",
            "  Downloading PuLP-2.9.0-py3-none-any.whl.metadata (5.4 kB)\n",
            "Downloading PuLP-2.9.0-py3-none-any.whl (17.7 MB)\n",
            "\u001b[2K   \u001b[90m━━━━━━━━━━━━━━━━━━━━━━━━━━━━━━━━━━━━━━━━\u001b[0m \u001b[32m17.7/17.7 MB\u001b[0m \u001b[31m32.1 MB/s\u001b[0m eta \u001b[36m0:00:00\u001b[0m\n",
            "\u001b[?25hInstalling collected packages: pulp\n",
            "Successfully installed pulp-2.9.0\n"
          ]
        }
      ],
      "source": [
        "!pip install pulp"
      ]
    },
    {
      "cell_type": "code",
      "source": [
        "from pulp import *"
      ],
      "metadata": {
        "id": "1Y8L0jF0XN1X"
      },
      "execution_count": 2,
      "outputs": []
    },
    {
      "cell_type": "code",
      "source": [
        "transp = LpProblem('MinTransporte',LpProblem)"
      ],
      "metadata": {
        "id": "NNB2_loSXVni"
      },
      "execution_count": 3,
      "outputs": []
    },
    {
      "cell_type": "code",
      "source": [
        "X12 = LpVariable('x12',lowBound = 0)"
      ],
      "metadata": {
        "id": "DZ9cEvZ6X0x-"
      },
      "execution_count": 6,
      "outputs": []
    },
    {
      "cell_type": "code",
      "source": [
        "x13 = LpVariable('x13',lowBound = 0)"
      ],
      "metadata": {
        "id": "btyp261BYGs1"
      },
      "execution_count": 12,
      "outputs": []
    },
    {
      "cell_type": "code",
      "source": [
        "x14 = LpVariable('x14',lowBound = 0)"
      ],
      "metadata": {
        "id": "lJ-m0wozYZ_z"
      },
      "execution_count": 13,
      "outputs": []
    },
    {
      "cell_type": "code",
      "source": [
        "x15 = LpVariable('x15',lowBound = 0)"
      ],
      "metadata": {
        "id": "_X1sbl4yZKIO"
      },
      "execution_count": 14,
      "outputs": []
    },
    {
      "cell_type": "code",
      "source": [
        "x18 = LpVariable('x18',lowBound = 0)"
      ],
      "metadata": {
        "id": "6XIVcC7PZawV"
      },
      "execution_count": 15,
      "outputs": []
    },
    {
      "cell_type": "code",
      "source": [
        "x19 = LpVariable('x19',lowBound = 0)"
      ],
      "metadata": {
        "id": "rlmVn47AZlJM"
      },
      "execution_count": 16,
      "outputs": []
    },
    {
      "cell_type": "code",
      "source": [
        "x110 = LpVariable('x110',lowBound = 0)"
      ],
      "metadata": {
        "id": "vjfqaIbiacPu"
      },
      "execution_count": 17,
      "outputs": []
    },
    {
      "cell_type": "code",
      "source": [
        "x111 = LpVariable('x111',lowBound = 0)"
      ],
      "metadata": {
        "id": "vJUBwANKa1PF"
      },
      "execution_count": 18,
      "outputs": []
    },
    {
      "cell_type": "code",
      "source": [
        "x112 = LpVariable('x112',lowBound = 0)"
      ],
      "metadata": {
        "id": "6KfxBlbRbJ_w"
      },
      "execution_count": 19,
      "outputs": []
    },
    {
      "cell_type": "code",
      "source": [
        "x114 = LpVariable('x114',lowBound = 0)"
      ],
      "metadata": {
        "id": "hBax31IsqCZs"
      },
      "execution_count": 58,
      "outputs": []
    },
    {
      "cell_type": "code",
      "source": [
        "x115 = LpVariable('x115',lowBound = 0)"
      ],
      "metadata": {
        "id": "OuvR96Zwcv1l"
      },
      "execution_count": 59,
      "outputs": []
    },
    {
      "cell_type": "code",
      "source": [
        "x116 = LpVariable('x116',lowBound = 0)"
      ],
      "metadata": {
        "id": "AC2XkA_fePSg"
      },
      "execution_count": 23,
      "outputs": []
    },
    {
      "cell_type": "code",
      "source": [
        "x117 = LpVariable('x117',lowBound = 0)"
      ],
      "metadata": {
        "id": "IXQxETwleb77"
      },
      "execution_count": 24,
      "outputs": []
    },
    {
      "cell_type": "code",
      "source": [
        "x119 = LpVariable('x119',lowBound = 0)"
      ],
      "metadata": {
        "id": "8JiqvD0weg0r"
      },
      "execution_count": 25,
      "outputs": []
    },
    {
      "cell_type": "code",
      "source": [
        "x124 = LpVariable('x124',lowBound = 0)"
      ],
      "metadata": {
        "id": "myZ2MDpdenoo"
      },
      "execution_count": 26,
      "outputs": []
    },
    {
      "cell_type": "code",
      "source": [
        "x21 = LpVariable('x21',lowBound = 0)"
      ],
      "metadata": {
        "id": "SIItnhjNfWXN"
      },
      "execution_count": 27,
      "outputs": []
    },
    {
      "cell_type": "code",
      "source": [
        "x22 = LpVariable('x22',lowBound = 0)"
      ],
      "metadata": {
        "id": "RHiOFuHtfhKH"
      },
      "execution_count": 28,
      "outputs": []
    },
    {
      "cell_type": "code",
      "source": [
        "x24 = LpVariable('x24',lowBound = 0)"
      ],
      "metadata": {
        "id": "fgCtu7OJfxUC"
      },
      "execution_count": 31,
      "outputs": []
    },
    {
      "cell_type": "code",
      "source": [
        "x25 = LpVariable('x25',lowBound = 0)"
      ],
      "metadata": {
        "id": "Xk6C-jZQgMEo"
      },
      "execution_count": 32,
      "outputs": []
    },
    {
      "cell_type": "code",
      "source": [
        "x26 = LpVariable('x26',lowBound = 0)"
      ],
      "metadata": {
        "id": "JHiYPSAWgTIe"
      },
      "execution_count": 33,
      "outputs": []
    },
    {
      "cell_type": "code",
      "source": [
        "x27 = LpVariable('x27',lowBound = 0)"
      ],
      "metadata": {
        "id": "uCwqa-zVgaKP"
      },
      "execution_count": 34,
      "outputs": []
    },
    {
      "cell_type": "code",
      "source": [
        "x29 = LpVariable('x29',lowBound = 0)"
      ],
      "metadata": {
        "id": "HP_e1zTogolT"
      },
      "execution_count": 35,
      "outputs": []
    },
    {
      "cell_type": "code",
      "source": [
        "x210 = LpVariable('x210',lowBound = 0)"
      ],
      "metadata": {
        "id": "g-H2OU5Xg1Mz"
      },
      "execution_count": 36,
      "outputs": []
    },
    {
      "cell_type": "code",
      "source": [
        "x211 = LpVariable('x211',lowBound = 0)"
      ],
      "metadata": {
        "id": "fM9gc1PNhHT-"
      },
      "execution_count": 37,
      "outputs": []
    },
    {
      "cell_type": "code",
      "source": [
        "x214 = LpVariable('x214',lowBound = 0)"
      ],
      "metadata": {
        "id": "4UiHaR2zhQP4"
      },
      "execution_count": 38,
      "outputs": []
    },
    {
      "cell_type": "code",
      "source": [
        "x215 = LpVariable('x215',lowBound = 0)"
      ],
      "metadata": {
        "id": "nqpx3ByuhiCO"
      },
      "execution_count": 39,
      "outputs": []
    },
    {
      "cell_type": "code",
      "source": [
        "x217 = LpVariable('x217',lowBound = 0)"
      ],
      "metadata": {
        "id": "kpMkNBE7hpMH"
      },
      "execution_count": 42,
      "outputs": []
    },
    {
      "cell_type": "code",
      "source": [
        "x218 = LpVariable('x218',lowBound = 0)"
      ],
      "metadata": {
        "id": "YjTFsEooh3xu"
      },
      "execution_count": 43,
      "outputs": []
    },
    {
      "cell_type": "code",
      "source": [
        "x219 = LpVariable('x219',lowBound = 0)"
      ],
      "metadata": {
        "id": "smH0SvAUiRTJ"
      },
      "execution_count": 44,
      "outputs": []
    },
    {
      "cell_type": "code",
      "source": [
        "x220 = LpVariable('x220',lowBound = 0)"
      ],
      "metadata": {
        "id": "JNQRQEYciX8a"
      },
      "execution_count": 45,
      "outputs": []
    },
    {
      "cell_type": "code",
      "source": [
        "x34 = LpVariable('x34',lowBound = 0)"
      ],
      "metadata": {
        "id": "TEph0rOiiszt"
      },
      "execution_count": 46,
      "outputs": []
    },
    {
      "cell_type": "code",
      "source": [
        "x35 = LpVariable('x35',lowBound = 0)"
      ],
      "metadata": {
        "id": "AMtiE-ldizz3"
      },
      "execution_count": 47,
      "outputs": []
    },
    {
      "cell_type": "code",
      "source": [
        "x36 = LpVariable('x36',lowBound = 0)"
      ],
      "metadata": {
        "id": "oVEPmX1Ji9G9"
      },
      "execution_count": 48,
      "outputs": []
    },
    {
      "cell_type": "code",
      "source": [
        "x38 = LpVariable('x38',lowBound = 0)"
      ],
      "metadata": {
        "id": "BfaA65iCjKLt"
      },
      "execution_count": 49,
      "outputs": []
    },
    {
      "cell_type": "code",
      "source": [
        "x39 = LpVariable('x39',lowBound = 0)"
      ],
      "metadata": {
        "id": "6OxWL5kzjXj_"
      },
      "execution_count": 50,
      "outputs": []
    },
    {
      "cell_type": "code",
      "source": [
        "x311 = LpVariable('x311',lowBound = 0)"
      ],
      "metadata": {
        "id": "W8gxVwAYjig2"
      },
      "execution_count": 51,
      "outputs": []
    },
    {
      "cell_type": "code",
      "source": [
        "x312 = LpVariable('x312',lowBound = 0)"
      ],
      "metadata": {
        "id": "SmlXL_JMjx9c"
      },
      "execution_count": 53,
      "outputs": []
    },
    {
      "cell_type": "code",
      "source": [
        "x314 = LpVariable('x314',lowBound = 0)"
      ],
      "metadata": {
        "id": "2kNPELXhj_mI"
      },
      "execution_count": 54,
      "outputs": []
    },
    {
      "cell_type": "code",
      "source": [
        "x318 = LpVariable('x318',lowBound = 0)"
      ],
      "metadata": {
        "id": "l_YNxeZmkGDr"
      },
      "execution_count": 55,
      "outputs": []
    },
    {
      "cell_type": "code",
      "source": [
        "x319 = LpVariable('x319',lowBound = 0)"
      ],
      "metadata": {
        "id": "sm5tOE9CkN0W"
      },
      "execution_count": 56,
      "outputs": []
    },
    {
      "cell_type": "code",
      "source": [
        "x320 = LpVariable('x320',lowBound = 0)"
      ],
      "metadata": {
        "id": "oNK2c17BkXHM"
      },
      "execution_count": 57,
      "outputs": []
    },
    {
      "cell_type": "code",
      "source": [
        "transp += 0.65*x12+0.70*x13+0.75*x14+0.80*x15+0.77*x18+0.60*x19+0.69*x110+0.73*x111+0.82*x112+0.78*x114+0.66*x115+0.72*x116+0.74*x117+0.71*x119+0.68*x124+0.65*x21+0.74*x22+0.80*x24+0.75*x25+0.79*x26+0.79*x27+0.66*x29+0.70*x210+0.78*x211+0.76*x214+0.62*x215+0.65*x217+0.74*218+0.77*x219+0.73*x220+0.60*x34+0.80*x35+0.79*x36+0.72*x38+0.68*x39+0.65*x311+0.70*x312+0.74*.314+0.76*x319+0.66*x320"
      ],
      "metadata": {
        "id": "KhplGbIJk0Zz"
      },
      "execution_count": 61,
      "outputs": []
    },
    {
      "cell_type": "code",
      "source": [
        "transp += x12+x13+x14+x15+x18+x19+x110+x111+x112+x114+x115+x116+x117+x119+x124<=9500000"
      ],
      "metadata": {
        "id": "xPiFga8r1dHy"
      },
      "execution_count": 62,
      "outputs": []
    },
    {
      "cell_type": "code",
      "source": [
        "transp += x21+x22+x24+x25+x26+x27+x29+x210+x211+x214+x215+x217+x218+x219+x220<=16000000"
      ],
      "metadata": {
        "id": "892wIuHX4BkM"
      },
      "execution_count": 63,
      "outputs": []
    },
    {
      "cell_type": "code",
      "source": [
        "transp += x34+x35+x36+x38+x39+x311+x312+x314+x318+x319+x320<=16500000"
      ],
      "metadata": {
        "id": "LEWJ8XB159_f"
      },
      "execution_count": 64,
      "outputs": []
    },
    {
      "cell_type": "code",
      "source": [
        "transp += x12+x21+x34+"
      ],
      "metadata": {
        "id": "uB-y_-J37Suj"
      },
      "execution_count": null,
      "outputs": []
    }
  ]
}