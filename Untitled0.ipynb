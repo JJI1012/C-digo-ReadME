{
  "nbformat": 4,
  "nbformat_minor": 0,
  "metadata": {
    "colab": {
      "provenance": [],
      "toc_visible": true,
      "authorship_tag": "ABX9TyNU/B7OlZP5kdx5iiv57Gj0",
      "include_colab_link": true
    },
    "kernelspec": {
      "name": "python3",
      "display_name": "Python 3"
    },
    "language_info": {
      "name": "python"
    }
  },
  "cells": [
    {
      "cell_type": "markdown",
      "metadata": {
        "id": "view-in-github",
        "colab_type": "text"
      },
      "source": [
        "<a href=\"https://colab.research.google.com/github/JJI1012/C-digo-ReadME/blob/main/Untitled0.ipynb\" target=\"_parent\"><img src=\"https://colab.research.google.com/assets/colab-badge.svg\" alt=\"Open In Colab\"/></a>"
      ]
    },
    {
      "cell_type": "code",
      "execution_count": null,
      "metadata": {
        "colab": {
          "base_uri": "https://localhost:8080/"
        },
        "id": "c-7km0MKQTmS",
        "outputId": "55dfeb3d-df49-47b8-e3d4-fa2d860f2792"
      },
      "outputs": [
        {
          "output_type": "stream",
          "name": "stdout",
          "text": [
            "Requirement already satisfied: pulp in /usr/local/lib/python3.10/dist-packages (2.9.0)\n"
          ]
        }
      ],
      "source": [
        "!pip install pulp"
      ]
    },
    {
      "cell_type": "code",
      "source": [
        "from pulp import *"
      ],
      "metadata": {
        "id": "mKCzjoz9QlV-"
      },
      "execution_count": null,
      "outputs": []
    },
    {
      "cell_type": "code",
      "source": [
        "capacidades = [95000000, 16000000, 16500000]\n",
        "demandas = [20000000, 2500000, 3000000, 4000000, 3500000, 1500000, 2500000, 3000000, 4500000, 4000000, 2200000, 2800000, 3200000, 2700000, 2300000]\n",
        "custos = [\n",
        "    [0.65, 0.70, 0.75, 0.80, 0.77, 0.66, 0.69, 0.73, 0.82, 0.78, 0.66, 0.72, 0.74, 0.71, 0.68],\n",
        "    [0.74, 0.80, 0.75, 0.79, 0.66, 0.70, 0.78, 0.76, 0.62, 0.65, 0.74, 0.77, 0.73, 0.60, 0.72],\n",
        "    [0.80, 0.79, 0.72, 0.68, 0.65, 0.70, 0.74, 0.76, 0.66, 0.64, 0.68, 0.71, 0.72, 0.90, 0.35]\n",
        "]\n",
        "\n"
      ],
      "metadata": {
        "id": "mO823JWyQuT-"
      },
      "execution_count": null,
      "outputs": []
    },
    {
      "cell_type": "code",
      "source": [
        "num_fabricas =len(capacidades)\n",
        "num_clientes = len(demandas)"
      ],
      "metadata": {
        "id": "1-7rWLkka9UM"
      },
      "execution_count": null,
      "outputs": []
    },
    {
      "cell_type": "code",
      "source": [
        "transp = LpProblem('MinTransporte',LpMinimize)"
      ],
      "metadata": {
        "id": "TxvPi-N4bnjO"
      },
      "execution_count": null,
      "outputs": []
    },
    {
      "cell_type": "code",
      "source": [
        "x = {(i, j): LpVariable(f'x {i}_{j}', lowBound=0, cat=LpInteger) for i in range(1, num_fabricas + 1) for j in range(1, num_clientes + 1)if v.varValue > 0}"
      ],
      "metadata": {
        "id": "qIyctB51u8_C"
      },
      "execution_count": null,
      "outputs": []
    },
    {
      "cell_type": "code",
      "source": [
        "transp += lpSum(custos[i-1][j-1] * x[(i, j)] for i in range(1, num_fabricas + 1) for j in range(1, len(custos[i-1]) + 1))"
      ],
      "metadata": {
        "id": "aKFAx86lhpQL"
      },
      "execution_count": null,
      "outputs": []
    },
    {
      "cell_type": "code",
      "source": [
        "for i in range(1, num_fabricas + 1):\n",
        "    transp += lpSum(x[(i, j)] for j in range(1, num_clientes + 1)) <= capacidades[i-1]\n",
        "\n",
        "for j in range(1, num_clientes + 1):\n",
        "    transp += lpSum(x[(i, j)] for i in range(1, num_fabricas + 1)) == demandas[j-1]"
      ],
      "metadata": {
        "id": "YlqDCIXn8eCM"
      },
      "execution_count": null,
      "outputs": []
    },
    {
      "cell_type": "code",
      "source": [
        "transp"
      ],
      "metadata": {
        "colab": {
          "base_uri": "https://localhost:8080/"
        },
        "id": "oUkFI3yd9XnX",
        "outputId": "02414c16-c14d-4526-c364-60933a1e46ae"
      },
      "execution_count": 208,
      "outputs": [
        {
          "output_type": "execute_result",
          "data": {
            "text/plain": [
              "MinTransporte:\n",
              "MINIMIZE\n",
              "0.65*x_1_1 + 0.78*x_1_10 + 0.66*x_1_11 + 0.72*x_1_12 + 0.74*x_1_13 + 0.71*x_1_14 + 0.68*x_1_15 + 0.7*x_1_2 + 0.75*x_1_3 + 0.8*x_1_4 + 0.77*x_1_5 + 0.66*x_1_6 + 0.69*x_1_7 + 0.73*x_1_8 + 0.82*x_1_9 + 0.74*x_2_1 + 0.65*x_2_10 + 0.74*x_2_11 + 0.77*x_2_12 + 0.73*x_2_13 + 0.6*x_2_14 + 0.72*x_2_15 + 0.8*x_2_2 + 0.75*x_2_3 + 0.79*x_2_4 + 0.66*x_2_5 + 0.7*x_2_6 + 0.78*x_2_7 + 0.76*x_2_8 + 0.62*x_2_9 + 0.8*x_3_1 + 0.64*x_3_10 + 0.68*x_3_11 + 0.71*x_3_12 + 0.72*x_3_13 + 0.9*x_3_14 + 0.35*x_3_15 + 0.79*x_3_2 + 0.72*x_3_3 + 0.68*x_3_4 + 0.65*x_3_5 + 0.7*x_3_6 + 0.74*x_3_7 + 0.76*x_3_8 + 0.66*x_3_9 + 0.0\n",
              "SUBJECT TO\n",
              "_C1: x_1_1 + x_1_10 + x_1_11 + x_1_12 + x_1_13 + x_1_14 + x_1_15 + x_1_2\n",
              " + x_1_3 + x_1_4 + x_1_5 + x_1_6 + x_1_7 + x_1_8 + x_1_9 <= 95000000\n",
              "\n",
              "_C2: x_2_1 + x_2_10 + x_2_11 + x_2_12 + x_2_13 + x_2_14 + x_2_15 + x_2_2\n",
              " + x_2_3 + x_2_4 + x_2_5 + x_2_6 + x_2_7 + x_2_8 + x_2_9 <= 16000000\n",
              "\n",
              "_C3: x_3_1 + x_3_10 + x_3_11 + x_3_12 + x_3_13 + x_3_14 + x_3_15 + x_3_2\n",
              " + x_3_3 + x_3_4 + x_3_5 + x_3_6 + x_3_7 + x_3_8 + x_3_9 <= 16500000\n",
              "\n",
              "_C4: x_1_1 + x_2_1 + x_3_1 = 20000000\n",
              "\n",
              "_C5: x_1_2 + x_2_2 + x_3_2 = 2500000\n",
              "\n",
              "_C6: x_1_3 + x_2_3 + x_3_3 = 3000000\n",
              "\n",
              "_C7: x_1_4 + x_2_4 + x_3_4 = 4000000\n",
              "\n",
              "_C8: x_1_5 + x_2_5 + x_3_5 = 3500000\n",
              "\n",
              "_C9: x_1_6 + x_2_6 + x_3_6 = 1500000\n",
              "\n",
              "_C10: x_1_7 + x_2_7 + x_3_7 = 2500000\n",
              "\n",
              "_C11: x_1_8 + x_2_8 + x_3_8 = 3000000\n",
              "\n",
              "_C12: x_1_9 + x_2_9 + x_3_9 = 4500000\n",
              "\n",
              "_C13: x_1_10 + x_2_10 + x_3_10 = 4000000\n",
              "\n",
              "_C14: x_1_11 + x_2_11 + x_3_11 = 2200000\n",
              "\n",
              "_C15: x_1_12 + x_2_12 + x_3_12 = 2800000\n",
              "\n",
              "_C16: x_1_13 + x_2_13 + x_3_13 = 3200000\n",
              "\n",
              "_C17: x_1_14 + x_2_14 + x_3_14 = 2700000\n",
              "\n",
              "_C18: x_1_15 + x_2_15 + x_3_15 = 2300000\n",
              "\n",
              "VARIABLES\n",
              "0 <= x_1_1 Integer\n",
              "0 <= x_1_10 Integer\n",
              "0 <= x_1_11 Integer\n",
              "0 <= x_1_12 Integer\n",
              "0 <= x_1_13 Integer\n",
              "0 <= x_1_14 Integer\n",
              "0 <= x_1_15 Integer\n",
              "0 <= x_1_2 Integer\n",
              "0 <= x_1_3 Integer\n",
              "0 <= x_1_4 Integer\n",
              "0 <= x_1_5 Integer\n",
              "0 <= x_1_6 Integer\n",
              "0 <= x_1_7 Integer\n",
              "0 <= x_1_8 Integer\n",
              "0 <= x_1_9 Integer\n",
              "0 <= x_2_1 Integer\n",
              "0 <= x_2_10 Integer\n",
              "0 <= x_2_11 Integer\n",
              "0 <= x_2_12 Integer\n",
              "0 <= x_2_13 Integer\n",
              "0 <= x_2_14 Integer\n",
              "0 <= x_2_15 Integer\n",
              "0 <= x_2_2 Integer\n",
              "0 <= x_2_3 Integer\n",
              "0 <= x_2_4 Integer\n",
              "0 <= x_2_5 Integer\n",
              "0 <= x_2_6 Integer\n",
              "0 <= x_2_7 Integer\n",
              "0 <= x_2_8 Integer\n",
              "0 <= x_2_9 Integer\n",
              "0 <= x_3_1 Integer\n",
              "0 <= x_3_10 Integer\n",
              "0 <= x_3_11 Integer\n",
              "0 <= x_3_12 Integer\n",
              "0 <= x_3_13 Integer\n",
              "0 <= x_3_14 Integer\n",
              "0 <= x_3_15 Integer\n",
              "0 <= x_3_2 Integer\n",
              "0 <= x_3_3 Integer\n",
              "0 <= x_3_4 Integer\n",
              "0 <= x_3_5 Integer\n",
              "0 <= x_3_6 Integer\n",
              "0 <= x_3_7 Integer\n",
              "0 <= x_3_8 Integer\n",
              "0 <= x_3_9 Integer"
            ]
          },
          "metadata": {},
          "execution_count": 208
        }
      ]
    },
    {
      "cell_type": "code",
      "source": [
        "transp.solve()"
      ],
      "metadata": {
        "id": "WbcmcQmU-0GK",
        "outputId": "c326d54b-88da-48d2-a9c5-3e7a751c6269",
        "colab": {
          "base_uri": "https://localhost:8080/"
        }
      },
      "execution_count": null,
      "outputs": [
        {
          "output_type": "execute_result",
          "data": {
            "text/plain": [
              "1"
            ]
          },
          "metadata": {},
          "execution_count": 205
        }
      ]
    },
    {
      "cell_type": "code",
      "source": [
        "print (\"Qantidade a ser produzida:\",LpStatus[transp.status])\n",
        "for v in transp.variables():\n",
        "        print (f\"{v.name} = {v.varValue}\")"
      ],
      "metadata": {
        "colab": {
          "base_uri": "https://localhost:8080/"
        },
        "id": "P1Wy5nUmDBUz",
        "outputId": "22372f95-2275-431b-dea9-96a5b2e7bbb9"
      },
      "execution_count": null,
      "outputs": [
        {
          "output_type": "stream",
          "name": "stdout",
          "text": [
            "Qantidade a ser produzida: Optimal\n",
            "x_1_1 = 20000000.0\n",
            "x_1_10 = 0.0\n",
            "x_1_11 = 2200000.0\n",
            "x_1_12 = 2800000.0\n",
            "x_1_13 = 0.0\n",
            "x_1_14 = 0.0\n",
            "x_1_15 = 0.0\n",
            "x_1_2 = 2500000.0\n",
            "x_1_3 = 0.0\n",
            "x_1_4 = 0.0\n",
            "x_1_5 = 0.0\n",
            "x_1_6 = 1500000.0\n",
            "x_1_7 = 2500000.0\n",
            "x_1_8 = 3000000.0\n",
            "x_1_9 = 0.0\n",
            "x_2_1 = 0.0\n",
            "x_2_10 = 300000.0\n",
            "x_2_11 = 0.0\n",
            "x_2_12 = 0.0\n",
            "x_2_13 = 3200000.0\n",
            "x_2_14 = 2700000.0\n",
            "x_2_15 = 0.0\n",
            "x_2_2 = 0.0\n",
            "x_2_3 = 0.0\n",
            "x_2_4 = 0.0\n",
            "x_2_5 = 0.0\n",
            "x_2_6 = 0.0\n",
            "x_2_7 = 0.0\n",
            "x_2_8 = 0.0\n",
            "x_2_9 = 4500000.0\n",
            "x_3_1 = 0.0\n",
            "x_3_10 = 3700000.0\n",
            "x_3_11 = 0.0\n",
            "x_3_12 = 0.0\n",
            "x_3_13 = 0.0\n",
            "x_3_14 = 0.0\n",
            "x_3_15 = 2300000.0\n",
            "x_3_2 = 0.0\n",
            "x_3_3 = 3000000.0\n",
            "x_3_4 = 4000000.0\n",
            "x_3_5 = 3500000.0\n",
            "x_3_6 = 0.0\n",
            "x_3_7 = 0.0\n",
            "x_3_8 = 0.0\n",
            "x_3_9 = 0.0\n"
          ]
        }
      ]
    }
  ]
}